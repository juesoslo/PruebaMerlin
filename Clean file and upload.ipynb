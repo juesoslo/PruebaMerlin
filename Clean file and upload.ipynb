{
 "cells": [
  {
   "cell_type": "code",
   "execution_count": 1,
   "metadata": {},
   "outputs": [],
   "source": [
    "import pandas as pd\n",
    "import numpy as np\n",
    "import datetime as dt\n",
    "from datetime import datetime\n",
    "import os\n",
    "import gspread\n",
    "from oauth2client.service_account import ServiceAccountCredentials\n",
    "from google.cloud import bigquery"
   ]
  },
  {
   "cell_type": "code",
   "execution_count": 2,
   "metadata": {},
   "outputs": [
    {
     "data": {
      "text/plain": [
       "'C://pythonproy//Project-74ca222cd7de.json'"
      ]
     },
     "execution_count": 2,
     "metadata": {},
     "output_type": "execute_result"
    }
   ],
   "source": [
    "#La ruta al archivo JSON está en una variable de entorno del sistema operativo\n",
    "os.environ[\"GOOGLE_APPLICATION_CREDENTIALS\"]"
   ]
  },
  {
   "cell_type": "markdown",
   "metadata": {},
   "source": [
    "## 1. The following spreadsheet contains call info from a telesales team, read it using Python"
   ]
  },
  {
   "cell_type": "code",
   "execution_count": 3,
   "metadata": {},
   "outputs": [
    {
     "data": {
      "text/html": [
       "<div>\n",
       "<style scoped>\n",
       "    .dataframe tbody tr th:only-of-type {\n",
       "        vertical-align: middle;\n",
       "    }\n",
       "\n",
       "    .dataframe tbody tr th {\n",
       "        vertical-align: top;\n",
       "    }\n",
       "\n",
       "    .dataframe thead th {\n",
       "        text-align: right;\n",
       "    }\n",
       "</style>\n",
       "<table border=\"1\" class=\"dataframe\">\n",
       "  <thead>\n",
       "    <tr style=\"text-align: right;\">\n",
       "      <th></th>\n",
       "      <th>campaign</th>\n",
       "      <th>category</th>\n",
       "      <th>day_of_month</th>\n",
       "      <th>disposition</th>\n",
       "      <th>month</th>\n",
       "      <th>quarter_hour</th>\n",
       "      <th>year</th>\n",
       "    </tr>\n",
       "  </thead>\n",
       "  <tbody>\n",
       "    <tr>\n",
       "      <th>0</th>\n",
       "      <td>prospecting</td>\n",
       "      <td>NaN</td>\n",
       "      <td>1</td>\n",
       "      <td>Email</td>\n",
       "      <td>December</td>\n",
       "      <td>NaN</td>\n",
       "      <td>2017</td>\n",
       "    </tr>\n",
       "    <tr>\n",
       "      <th>1</th>\n",
       "      <td>outbound</td>\n",
       "      <td>NaN</td>\n",
       "      <td>1</td>\n",
       "      <td>Email</td>\n",
       "      <td>December</td>\n",
       "      <td>NaN</td>\n",
       "      <td>2017</td>\n",
       "    </tr>\n",
       "    <tr>\n",
       "      <th>2</th>\n",
       "      <td>prospecting</td>\n",
       "      <td>NaN</td>\n",
       "      <td>1</td>\n",
       "      <td>Email</td>\n",
       "      <td>December</td>\n",
       "      <td>NaN</td>\n",
       "      <td>2017</td>\n",
       "    </tr>\n",
       "    <tr>\n",
       "      <th>3</th>\n",
       "      <td>prospecting</td>\n",
       "      <td>NaN</td>\n",
       "      <td>1</td>\n",
       "      <td>Email</td>\n",
       "      <td>December</td>\n",
       "      <td>NaN</td>\n",
       "      <td>2017</td>\n",
       "    </tr>\n",
       "    <tr>\n",
       "      <th>4</th>\n",
       "      <td>prospecting</td>\n",
       "      <td>NaN</td>\n",
       "      <td>1</td>\n",
       "      <td>Email</td>\n",
       "      <td>December</td>\n",
       "      <td>NaN</td>\n",
       "      <td>2017</td>\n",
       "    </tr>\n",
       "  </tbody>\n",
       "</table>\n",
       "</div>"
      ],
      "text/plain": [
       "      campaign category  day_of_month disposition     month quarter_hour  year\n",
       "0  prospecting      NaN             1       Email  December          NaN  2017\n",
       "1     outbound      NaN             1       Email  December          NaN  2017\n",
       "2  prospecting      NaN             1       Email  December          NaN  2017\n",
       "3  prospecting      NaN             1       Email  December          NaN  2017\n",
       "4  prospecting      NaN             1       Email  December          NaN  2017"
      ]
     },
     "execution_count": 3,
     "metadata": {},
     "output_type": "execute_result"
    }
   ],
   "source": [
    "# use creds to create a client to interact with the Google Drive API\n",
    "scope = ['https://spreadsheets.google.com/feeds',\n",
    "         'https://www.googleapis.com/auth/drive']\n",
    "creds = ServiceAccountCredentials.from_json_keyfile_name(os.environ[\"GOOGLE_APPLICATION_CREDENTIALS\"], scope)\n",
    "client = gspread.authorize(creds)\n",
    "\n",
    "# Find a workbook by name and open the first sheet\n",
    "# Make sure you use the right name here.\n",
    "sheet = client.open(\"test_data\").sheet1\n",
    "\n",
    "# Extract and print all of the values\n",
    "list_of_hashes = sheet.get_all_records()\n",
    "df = pd.DataFrame(list_of_hashes)\n",
    "df = df.replace(r'^\\s*$', np.nan, regex=True)\n",
    "df.head(5)"
   ]
  },
  {
   "cell_type": "code",
   "execution_count": 4,
   "metadata": {},
   "outputs": [],
   "source": [
    "#Cargando el CSV en un dataframe\n",
    "#df = pd.read_csv(\"test_data.csv\", delimiter=\",\")\n",
    "#df.head(5)"
   ]
  },
  {
   "cell_type": "markdown",
   "metadata": {},
   "source": [
    "## 2. As you can see, the data has time information broken down in different columns. Consolidate all time information into a timestamp that is localized in MST (Mountain Standard Time) and then build another column with timestamps in UTC. \n",
    "Note: If quarter_hour not provided choose 00:00 as the time to build the timestamp."
   ]
  },
  {
   "cell_type": "code",
   "execution_count": 5,
   "metadata": {},
   "outputs": [
    {
     "data": {
      "text/plain": [
       "1838"
      ]
     },
     "execution_count": 5,
     "metadata": {},
     "output_type": "execute_result"
    }
   ],
   "source": [
    "#Revisando cuantos registros tienen vacío el campo quarter_hour\n",
    "df_test = df[df['quarter_hour'].isnull() == True]\n",
    "df_test.shape[0] #1838 campos vacíos"
   ]
  },
  {
   "cell_type": "code",
   "execution_count": 6,
   "metadata": {},
   "outputs": [
    {
     "data": {
      "text/html": [
       "<div>\n",
       "<style scoped>\n",
       "    .dataframe tbody tr th:only-of-type {\n",
       "        vertical-align: middle;\n",
       "    }\n",
       "\n",
       "    .dataframe tbody tr th {\n",
       "        vertical-align: top;\n",
       "    }\n",
       "\n",
       "    .dataframe thead th {\n",
       "        text-align: right;\n",
       "    }\n",
       "</style>\n",
       "<table border=\"1\" class=\"dataframe\">\n",
       "  <thead>\n",
       "    <tr style=\"text-align: right;\">\n",
       "      <th></th>\n",
       "      <th>quarter_hour</th>\n",
       "      <th>counts</th>\n",
       "    </tr>\n",
       "  </thead>\n",
       "  <tbody>\n",
       "    <tr>\n",
       "      <th>0</th>\n",
       "      <td>10:00</td>\n",
       "      <td>39</td>\n",
       "    </tr>\n",
       "    <tr>\n",
       "      <th>1</th>\n",
       "      <td>10:15</td>\n",
       "      <td>44</td>\n",
       "    </tr>\n",
       "    <tr>\n",
       "      <th>2</th>\n",
       "      <td>10:30</td>\n",
       "      <td>48</td>\n",
       "    </tr>\n",
       "    <tr>\n",
       "      <th>3</th>\n",
       "      <td>10:45</td>\n",
       "      <td>48</td>\n",
       "    </tr>\n",
       "    <tr>\n",
       "      <th>4</th>\n",
       "      <td>11:00</td>\n",
       "      <td>48</td>\n",
       "    </tr>\n",
       "  </tbody>\n",
       "</table>\n",
       "</div>"
      ],
      "text/plain": [
       "  quarter_hour  counts\n",
       "0        10:00      39\n",
       "1        10:15      44\n",
       "2        10:30      48\n",
       "3        10:45      48\n",
       "4        11:00      48"
      ]
     },
     "execution_count": 6,
     "metadata": {},
     "output_type": "execute_result"
    }
   ],
   "source": [
    "#Revisando los diferentes valores que tiene el campo quarter_hour, y agrupando para contarlos\n",
    "df_test = df.groupby(['quarter_hour']).size().reset_index(name='counts')\n",
    "df_test.head(5)"
   ]
  },
  {
   "cell_type": "code",
   "execution_count": 7,
   "metadata": {},
   "outputs": [
    {
     "data": {
      "text/html": [
       "<div>\n",
       "<style scoped>\n",
       "    .dataframe tbody tr th:only-of-type {\n",
       "        vertical-align: middle;\n",
       "    }\n",
       "\n",
       "    .dataframe tbody tr th {\n",
       "        vertical-align: top;\n",
       "    }\n",
       "\n",
       "    .dataframe thead th {\n",
       "        text-align: right;\n",
       "    }\n",
       "</style>\n",
       "<table border=\"1\" class=\"dataframe\">\n",
       "  <thead>\n",
       "    <tr style=\"text-align: right;\">\n",
       "      <th></th>\n",
       "      <th>campaign</th>\n",
       "      <th>category</th>\n",
       "      <th>day_of_month</th>\n",
       "      <th>disposition</th>\n",
       "      <th>month</th>\n",
       "      <th>quarter_hour</th>\n",
       "      <th>year</th>\n",
       "    </tr>\n",
       "  </thead>\n",
       "  <tbody>\n",
       "    <tr>\n",
       "      <th>0</th>\n",
       "      <td>prospecting</td>\n",
       "      <td>NaN</td>\n",
       "      <td>1</td>\n",
       "      <td>Email</td>\n",
       "      <td>December</td>\n",
       "      <td>00:00</td>\n",
       "      <td>2017</td>\n",
       "    </tr>\n",
       "    <tr>\n",
       "      <th>1</th>\n",
       "      <td>outbound</td>\n",
       "      <td>NaN</td>\n",
       "      <td>1</td>\n",
       "      <td>Email</td>\n",
       "      <td>December</td>\n",
       "      <td>00:00</td>\n",
       "      <td>2017</td>\n",
       "    </tr>\n",
       "    <tr>\n",
       "      <th>2</th>\n",
       "      <td>prospecting</td>\n",
       "      <td>NaN</td>\n",
       "      <td>1</td>\n",
       "      <td>Email</td>\n",
       "      <td>December</td>\n",
       "      <td>00:00</td>\n",
       "      <td>2017</td>\n",
       "    </tr>\n",
       "    <tr>\n",
       "      <th>3</th>\n",
       "      <td>prospecting</td>\n",
       "      <td>NaN</td>\n",
       "      <td>1</td>\n",
       "      <td>Email</td>\n",
       "      <td>December</td>\n",
       "      <td>00:00</td>\n",
       "      <td>2017</td>\n",
       "    </tr>\n",
       "    <tr>\n",
       "      <th>4</th>\n",
       "      <td>prospecting</td>\n",
       "      <td>NaN</td>\n",
       "      <td>1</td>\n",
       "      <td>Email</td>\n",
       "      <td>December</td>\n",
       "      <td>00:00</td>\n",
       "      <td>2017</td>\n",
       "    </tr>\n",
       "  </tbody>\n",
       "</table>\n",
       "</div>"
      ],
      "text/plain": [
       "      campaign category  day_of_month disposition     month quarter_hour  year\n",
       "0  prospecting      NaN             1       Email  December        00:00  2017\n",
       "1     outbound      NaN             1       Email  December        00:00  2017\n",
       "2  prospecting      NaN             1       Email  December        00:00  2017\n",
       "3  prospecting      NaN             1       Email  December        00:00  2017\n",
       "4  prospecting      NaN             1       Email  December        00:00  2017"
      ]
     },
     "execution_count": 7,
     "metadata": {},
     "output_type": "execute_result"
    }
   ],
   "source": [
    "#Llenando los quarter_hour con 00:00\n",
    "df['quarter_hour'] = df.quarter_hour.fillna('00:00')\n",
    "df.head(5)"
   ]
  },
  {
   "cell_type": "code",
   "execution_count": 8,
   "metadata": {},
   "outputs": [
    {
     "data": {
      "text/plain": [
       "0"
      ]
     },
     "execution_count": 8,
     "metadata": {},
     "output_type": "execute_result"
    }
   ],
   "source": [
    "#Revisando cuantos registros tienen vacío el campo quarter_hour\n",
    "df_test = df[df['quarter_hour'].isnull() == True]\n",
    "df_test.shape[0] #ningun campo vacío"
   ]
  },
  {
   "cell_type": "code",
   "execution_count": 9,
   "metadata": {},
   "outputs": [
    {
     "data": {
      "text/plain": [
       "1838"
      ]
     },
     "execution_count": 9,
     "metadata": {},
     "output_type": "execute_result"
    }
   ],
   "source": [
    "#Revisando cuantos registros quedaron con 00:00\n",
    "df_test = df[df['quarter_hour'] == '00:00']\n",
    "df_test.shape[0] #1838 campos"
   ]
  },
  {
   "cell_type": "code",
   "execution_count": 10,
   "metadata": {},
   "outputs": [
    {
     "data": {
      "text/html": [
       "<div>\n",
       "<style scoped>\n",
       "    .dataframe tbody tr th:only-of-type {\n",
       "        vertical-align: middle;\n",
       "    }\n",
       "\n",
       "    .dataframe tbody tr th {\n",
       "        vertical-align: top;\n",
       "    }\n",
       "\n",
       "    .dataframe thead th {\n",
       "        text-align: right;\n",
       "    }\n",
       "</style>\n",
       "<table border=\"1\" class=\"dataframe\">\n",
       "  <thead>\n",
       "    <tr style=\"text-align: right;\">\n",
       "      <th></th>\n",
       "      <th>campaign</th>\n",
       "      <th>category</th>\n",
       "      <th>day_of_month</th>\n",
       "      <th>disposition</th>\n",
       "      <th>month</th>\n",
       "      <th>quarter_hour</th>\n",
       "      <th>year</th>\n",
       "      <th>fulldate</th>\n",
       "    </tr>\n",
       "  </thead>\n",
       "  <tbody>\n",
       "    <tr>\n",
       "      <th>0</th>\n",
       "      <td>prospecting</td>\n",
       "      <td>NaN</td>\n",
       "      <td>1</td>\n",
       "      <td>Email</td>\n",
       "      <td>December</td>\n",
       "      <td>00:00</td>\n",
       "      <td>2017</td>\n",
       "      <td>2017-12-01</td>\n",
       "    </tr>\n",
       "    <tr>\n",
       "      <th>1</th>\n",
       "      <td>outbound</td>\n",
       "      <td>NaN</td>\n",
       "      <td>1</td>\n",
       "      <td>Email</td>\n",
       "      <td>December</td>\n",
       "      <td>00:00</td>\n",
       "      <td>2017</td>\n",
       "      <td>2017-12-01</td>\n",
       "    </tr>\n",
       "    <tr>\n",
       "      <th>2</th>\n",
       "      <td>prospecting</td>\n",
       "      <td>NaN</td>\n",
       "      <td>1</td>\n",
       "      <td>Email</td>\n",
       "      <td>December</td>\n",
       "      <td>00:00</td>\n",
       "      <td>2017</td>\n",
       "      <td>2017-12-01</td>\n",
       "    </tr>\n",
       "    <tr>\n",
       "      <th>3</th>\n",
       "      <td>prospecting</td>\n",
       "      <td>NaN</td>\n",
       "      <td>1</td>\n",
       "      <td>Email</td>\n",
       "      <td>December</td>\n",
       "      <td>00:00</td>\n",
       "      <td>2017</td>\n",
       "      <td>2017-12-01</td>\n",
       "    </tr>\n",
       "    <tr>\n",
       "      <th>4</th>\n",
       "      <td>prospecting</td>\n",
       "      <td>NaN</td>\n",
       "      <td>1</td>\n",
       "      <td>Email</td>\n",
       "      <td>December</td>\n",
       "      <td>00:00</td>\n",
       "      <td>2017</td>\n",
       "      <td>2017-12-01</td>\n",
       "    </tr>\n",
       "  </tbody>\n",
       "</table>\n",
       "</div>"
      ],
      "text/plain": [
       "      campaign category  day_of_month disposition     month quarter_hour  \\\n",
       "0  prospecting      NaN             1       Email  December        00:00   \n",
       "1     outbound      NaN             1       Email  December        00:00   \n",
       "2  prospecting      NaN             1       Email  December        00:00   \n",
       "3  prospecting      NaN             1       Email  December        00:00   \n",
       "4  prospecting      NaN             1       Email  December        00:00   \n",
       "\n",
       "   year   fulldate  \n",
       "0  2017 2017-12-01  \n",
       "1  2017 2017-12-01  \n",
       "2  2017 2017-12-01  \n",
       "3  2017 2017-12-01  \n",
       "4  2017 2017-12-01  "
      ]
     },
     "execution_count": 10,
     "metadata": {},
     "output_type": "execute_result"
    }
   ],
   "source": [
    "#Concatenando toda la fecha en un sólo campo \n",
    "df['fulldate'] = df['year'].map(str) +'-'+ df['month'] +'-'+ df['day_of_month'].map(str) +' '+ df['quarter_hour']\n",
    "df['fulldate'] = df['fulldate'].apply(lambda x: dt.datetime.strptime(x,'%Y-%B-%d %H:%M'))\n",
    "df.head(5)"
   ]
  },
  {
   "cell_type": "code",
   "execution_count": 11,
   "metadata": {},
   "outputs": [
    {
     "data": {
      "text/html": [
       "<div>\n",
       "<style scoped>\n",
       "    .dataframe tbody tr th:only-of-type {\n",
       "        vertical-align: middle;\n",
       "    }\n",
       "\n",
       "    .dataframe tbody tr th {\n",
       "        vertical-align: top;\n",
       "    }\n",
       "\n",
       "    .dataframe thead th {\n",
       "        text-align: right;\n",
       "    }\n",
       "</style>\n",
       "<table border=\"1\" class=\"dataframe\">\n",
       "  <thead>\n",
       "    <tr style=\"text-align: right;\">\n",
       "      <th></th>\n",
       "      <th>campaign</th>\n",
       "      <th>category</th>\n",
       "      <th>day_of_month</th>\n",
       "      <th>disposition</th>\n",
       "      <th>month</th>\n",
       "      <th>quarter_hour</th>\n",
       "      <th>year</th>\n",
       "      <th>fulldate</th>\n",
       "      <th>MST_Time</th>\n",
       "    </tr>\n",
       "  </thead>\n",
       "  <tbody>\n",
       "    <tr>\n",
       "      <th>0</th>\n",
       "      <td>prospecting</td>\n",
       "      <td>NaN</td>\n",
       "      <td>1</td>\n",
       "      <td>Email</td>\n",
       "      <td>December</td>\n",
       "      <td>00:00</td>\n",
       "      <td>2017</td>\n",
       "      <td>2017-12-01</td>\n",
       "      <td>2017-11-30 22:00:00-07:00</td>\n",
       "    </tr>\n",
       "    <tr>\n",
       "      <th>1</th>\n",
       "      <td>outbound</td>\n",
       "      <td>NaN</td>\n",
       "      <td>1</td>\n",
       "      <td>Email</td>\n",
       "      <td>December</td>\n",
       "      <td>00:00</td>\n",
       "      <td>2017</td>\n",
       "      <td>2017-12-01</td>\n",
       "      <td>2017-11-30 22:00:00-07:00</td>\n",
       "    </tr>\n",
       "    <tr>\n",
       "      <th>2</th>\n",
       "      <td>prospecting</td>\n",
       "      <td>NaN</td>\n",
       "      <td>1</td>\n",
       "      <td>Email</td>\n",
       "      <td>December</td>\n",
       "      <td>00:00</td>\n",
       "      <td>2017</td>\n",
       "      <td>2017-12-01</td>\n",
       "      <td>2017-11-30 22:00:00-07:00</td>\n",
       "    </tr>\n",
       "    <tr>\n",
       "      <th>3</th>\n",
       "      <td>prospecting</td>\n",
       "      <td>NaN</td>\n",
       "      <td>1</td>\n",
       "      <td>Email</td>\n",
       "      <td>December</td>\n",
       "      <td>00:00</td>\n",
       "      <td>2017</td>\n",
       "      <td>2017-12-01</td>\n",
       "      <td>2017-11-30 22:00:00-07:00</td>\n",
       "    </tr>\n",
       "    <tr>\n",
       "      <th>4</th>\n",
       "      <td>prospecting</td>\n",
       "      <td>NaN</td>\n",
       "      <td>1</td>\n",
       "      <td>Email</td>\n",
       "      <td>December</td>\n",
       "      <td>00:00</td>\n",
       "      <td>2017</td>\n",
       "      <td>2017-12-01</td>\n",
       "      <td>2017-11-30 22:00:00-07:00</td>\n",
       "    </tr>\n",
       "  </tbody>\n",
       "</table>\n",
       "</div>"
      ],
      "text/plain": [
       "      campaign category  day_of_month disposition     month quarter_hour  \\\n",
       "0  prospecting      NaN             1       Email  December        00:00   \n",
       "1     outbound      NaN             1       Email  December        00:00   \n",
       "2  prospecting      NaN             1       Email  December        00:00   \n",
       "3  prospecting      NaN             1       Email  December        00:00   \n",
       "4  prospecting      NaN             1       Email  December        00:00   \n",
       "\n",
       "   year   fulldate                  MST_Time  \n",
       "0  2017 2017-12-01 2017-11-30 22:00:00-07:00  \n",
       "1  2017 2017-12-01 2017-11-30 22:00:00-07:00  \n",
       "2  2017 2017-12-01 2017-11-30 22:00:00-07:00  \n",
       "3  2017 2017-12-01 2017-11-30 22:00:00-07:00  \n",
       "4  2017 2017-12-01 2017-11-30 22:00:00-07:00  "
      ]
     },
     "execution_count": 11,
     "metadata": {},
     "output_type": "execute_result"
    }
   ],
   "source": [
    "def converter_MST(row):\n",
    "    return row['fulldate'].tz_localize('US/Eastern').tz_convert('US/Mountain')\n",
    "\n",
    "#Creando la fecha con Timezone MST\n",
    "df['MST_Time'] = df.apply(converter_MST, axis=1)\n",
    "df.head(5)"
   ]
  },
  {
   "cell_type": "code",
   "execution_count": 12,
   "metadata": {},
   "outputs": [
    {
     "data": {
      "text/html": [
       "<div>\n",
       "<style scoped>\n",
       "    .dataframe tbody tr th:only-of-type {\n",
       "        vertical-align: middle;\n",
       "    }\n",
       "\n",
       "    .dataframe tbody tr th {\n",
       "        vertical-align: top;\n",
       "    }\n",
       "\n",
       "    .dataframe thead th {\n",
       "        text-align: right;\n",
       "    }\n",
       "</style>\n",
       "<table border=\"1\" class=\"dataframe\">\n",
       "  <thead>\n",
       "    <tr style=\"text-align: right;\">\n",
       "      <th></th>\n",
       "      <th>campaign</th>\n",
       "      <th>category</th>\n",
       "      <th>day_of_month</th>\n",
       "      <th>disposition</th>\n",
       "      <th>month</th>\n",
       "      <th>quarter_hour</th>\n",
       "      <th>year</th>\n",
       "      <th>fulldate</th>\n",
       "      <th>MST_Time</th>\n",
       "      <th>UTC_Time</th>\n",
       "    </tr>\n",
       "  </thead>\n",
       "  <tbody>\n",
       "    <tr>\n",
       "      <th>0</th>\n",
       "      <td>prospecting</td>\n",
       "      <td>NaN</td>\n",
       "      <td>1</td>\n",
       "      <td>Email</td>\n",
       "      <td>December</td>\n",
       "      <td>00:00</td>\n",
       "      <td>2017</td>\n",
       "      <td>2017-12-01</td>\n",
       "      <td>2017-11-30 22:00:00-07:00</td>\n",
       "      <td>2017-12-01 05:00:00+00:00</td>\n",
       "    </tr>\n",
       "    <tr>\n",
       "      <th>1</th>\n",
       "      <td>outbound</td>\n",
       "      <td>NaN</td>\n",
       "      <td>1</td>\n",
       "      <td>Email</td>\n",
       "      <td>December</td>\n",
       "      <td>00:00</td>\n",
       "      <td>2017</td>\n",
       "      <td>2017-12-01</td>\n",
       "      <td>2017-11-30 22:00:00-07:00</td>\n",
       "      <td>2017-12-01 05:00:00+00:00</td>\n",
       "    </tr>\n",
       "    <tr>\n",
       "      <th>2</th>\n",
       "      <td>prospecting</td>\n",
       "      <td>NaN</td>\n",
       "      <td>1</td>\n",
       "      <td>Email</td>\n",
       "      <td>December</td>\n",
       "      <td>00:00</td>\n",
       "      <td>2017</td>\n",
       "      <td>2017-12-01</td>\n",
       "      <td>2017-11-30 22:00:00-07:00</td>\n",
       "      <td>2017-12-01 05:00:00+00:00</td>\n",
       "    </tr>\n",
       "    <tr>\n",
       "      <th>3</th>\n",
       "      <td>prospecting</td>\n",
       "      <td>NaN</td>\n",
       "      <td>1</td>\n",
       "      <td>Email</td>\n",
       "      <td>December</td>\n",
       "      <td>00:00</td>\n",
       "      <td>2017</td>\n",
       "      <td>2017-12-01</td>\n",
       "      <td>2017-11-30 22:00:00-07:00</td>\n",
       "      <td>2017-12-01 05:00:00+00:00</td>\n",
       "    </tr>\n",
       "    <tr>\n",
       "      <th>4</th>\n",
       "      <td>prospecting</td>\n",
       "      <td>NaN</td>\n",
       "      <td>1</td>\n",
       "      <td>Email</td>\n",
       "      <td>December</td>\n",
       "      <td>00:00</td>\n",
       "      <td>2017</td>\n",
       "      <td>2017-12-01</td>\n",
       "      <td>2017-11-30 22:00:00-07:00</td>\n",
       "      <td>2017-12-01 05:00:00+00:00</td>\n",
       "    </tr>\n",
       "  </tbody>\n",
       "</table>\n",
       "</div>"
      ],
      "text/plain": [
       "      campaign category  day_of_month disposition     month quarter_hour  \\\n",
       "0  prospecting      NaN             1       Email  December        00:00   \n",
       "1     outbound      NaN             1       Email  December        00:00   \n",
       "2  prospecting      NaN             1       Email  December        00:00   \n",
       "3  prospecting      NaN             1       Email  December        00:00   \n",
       "4  prospecting      NaN             1       Email  December        00:00   \n",
       "\n",
       "   year   fulldate                  MST_Time                  UTC_Time  \n",
       "0  2017 2017-12-01 2017-11-30 22:00:00-07:00 2017-12-01 05:00:00+00:00  \n",
       "1  2017 2017-12-01 2017-11-30 22:00:00-07:00 2017-12-01 05:00:00+00:00  \n",
       "2  2017 2017-12-01 2017-11-30 22:00:00-07:00 2017-12-01 05:00:00+00:00  \n",
       "3  2017 2017-12-01 2017-11-30 22:00:00-07:00 2017-12-01 05:00:00+00:00  \n",
       "4  2017 2017-12-01 2017-11-30 22:00:00-07:00 2017-12-01 05:00:00+00:00  "
      ]
     },
     "execution_count": 12,
     "metadata": {},
     "output_type": "execute_result"
    }
   ],
   "source": [
    "def converter_UTC(row):\n",
    "    return row['fulldate'].tz_localize('US/Eastern').tz_convert('UTC')\n",
    "\n",
    "#Creando la fecha con Timezone UTC\n",
    "df['UTC_Time'] = df.apply(converter_UTC, axis=1)\n",
    "\n",
    "df.head(5)"
   ]
  },
  {
   "cell_type": "code",
   "execution_count": 13,
   "metadata": {},
   "outputs": [
    {
     "data": {
      "text/plain": [
       "campaign                             object\n",
       "category                             object\n",
       "day_of_month                          int64\n",
       "disposition                          object\n",
       "month                                object\n",
       "quarter_hour                         object\n",
       "year                                  int64\n",
       "fulldate                     datetime64[ns]\n",
       "MST_Time        datetime64[ns, US/Mountain]\n",
       "UTC_Time                datetime64[ns, UTC]\n",
       "dtype: object"
      ]
     },
     "execution_count": 13,
     "metadata": {},
     "output_type": "execute_result"
    }
   ],
   "source": [
    "#Verificando los tipos de datos\n",
    "df.dtypes"
   ]
  },
  {
   "cell_type": "markdown",
   "metadata": {},
   "source": [
    "## 3. Save the data in the database engine that you want."
   ]
  },
  {
   "cell_type": "code",
   "execution_count": 15,
   "metadata": {
    "scrolled": true
   },
   "outputs": [
    {
     "data": {
      "text/plain": [
       "<google.cloud.bigquery.job.LoadJob at 0x235e7df0240>"
      ]
     },
     "execution_count": 15,
     "metadata": {},
     "output_type": "execute_result"
    }
   ],
   "source": [
    "client = bigquery.Client()\n",
    "dataset_ref = client.dataset('test_data')\n",
    "table_ref = dataset_ref.table('calls')\n",
    "\n",
    "client.load_table_from_dataframe(df, table_ref).result()"
   ]
  },
  {
   "cell_type": "markdown",
   "metadata": {},
   "source": [
    "## 4. We need to have this process automatized, propose a solution.\n",
    "\n",
    "We can adjust this code to load only the new rows, if needed, and then we can migrate this code to a single file (something like etl.py).\n",
    "\n",
    "Then we can create an scheduled task to run it periodically."
   ]
  }
 ],
 "metadata": {
  "kernelspec": {
   "display_name": "Python 3",
   "language": "python",
   "name": "python3"
  },
  "language_info": {
   "codemirror_mode": {
    "name": "ipython",
    "version": 3
   },
   "file_extension": ".py",
   "mimetype": "text/x-python",
   "name": "python",
   "nbconvert_exporter": "python",
   "pygments_lexer": "ipython3",
   "version": "3.5.4"
  }
 },
 "nbformat": 4,
 "nbformat_minor": 2
}
